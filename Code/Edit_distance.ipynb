{
 "cells": [
  {
   "cell_type": "markdown",
   "id": "0c65a9ae",
   "metadata": {},
   "source": [
    "# Dynamic programming"
   ]
  },
  {
   "cell_type": "markdown",
   "id": "4a21b81a",
   "metadata": {},
   "source": [
    "### Edit distance"
   ]
  },
  {
   "cell_type": "code",
   "execution_count": 1,
   "id": "e1eb4357",
   "metadata": {},
   "outputs": [],
   "source": [
    "def EditDist(S : str, T: str):\n",
    "    \n",
    "    m = len(S)\n",
    "    n = len(T)\n",
    "    \n",
    "    D = [[0 * _ for _ in range(n+1)] for i in range(m+1)]\n",
    "    \n",
    "    Ins = 1\n",
    "    Del = 1\n",
    "    Sub = 1\n",
    "    \n",
    "    for i in range(1, n+1):\n",
    "        D[0][i] = D[0][i-1] + Ins\n",
    "    \n",
    "    for j in range(1, m+1):\n",
    "        D[j][0] = D[j-1][0] + Del\n",
    "        \n",
    "    for i in range(1, m+1):\n",
    "        for j in range(1, n+1):\n",
    "            if S[i-1] != T[j-1]:\n",
    "                cost = Sub\n",
    "            else:\n",
    "                cost = 0\n",
    "            D[i][j] = min(D[i-1][j] + Del, D[i][j-1] + Ins, D[i-1][j-1] + cost)\n",
    "            \n",
    "    return D[-1][-1]"
   ]
  },
  {
   "cell_type": "code",
   "execution_count": 2,
   "id": "a752b6dc",
   "metadata": {},
   "outputs": [
    {
     "name": "stdout",
     "output_type": "stream",
     "text": [
      "2\n"
     ]
    }
   ],
   "source": [
    "print(EditDist(\"bab\", \"abaab\"))"
   ]
  }
 ],
 "metadata": {
  "kernelspec": {
   "display_name": "Python 3 (ipykernel)",
   "language": "python",
   "name": "python3"
  },
  "language_info": {
   "codemirror_mode": {
    "name": "ipython",
    "version": 3
   },
   "file_extension": ".py",
   "mimetype": "text/x-python",
   "name": "python",
   "nbconvert_exporter": "python",
   "pygments_lexer": "ipython3",
   "version": "3.9.12"
  }
 },
 "nbformat": 4,
 "nbformat_minor": 5
}
