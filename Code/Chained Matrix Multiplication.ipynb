{
 "cells": [
  {
   "cell_type": "code",
   "execution_count": 1,
   "id": "80442a90",
   "metadata": {},
   "outputs": [],
   "source": [
    "def MinChainMulti(D : list):\n",
    "    \n",
    "    n = len(D)\n",
    "    \n",
    "    C = [[0 * _ for _ in range(n)] for i in range(n)]\n",
    "    \n",
    "    for diag in range(1, n):\n",
    "        for i in range(1, n-diag):\n",
    "            j = i + diag\n",
    "            C[i][j] = float(\"inf\")\n",
    "            for k in range(i,j):\n",
    "                C[i][j] = min(C[i][j], C[i][k] + C[k+1][j] + D[i-1]*D[k]*D[j])\n",
    "    \n",
    "    return C[1][n-1]"
   ]
  },
  {
   "cell_type": "code",
   "execution_count": 2,
   "id": "83a76751",
   "metadata": {},
   "outputs": [
    {
     "name": "stdout",
     "output_type": "stream",
     "text": [
      "4500\n"
     ]
    }
   ],
   "source": [
    "# Matrix A : 10 * 30\n",
    "# Matrix B : 30 * 5\n",
    "# Matrix C : 5 * 60\n",
    "\n",
    "\n",
    "# D = [10, 30, 5, 60]\n",
    "# D0 = 10, D1 = 30, D2 = 5, D3 = 60\n",
    "\n",
    "# 행렬의 곱셈 순서 경우의 수 :\n",
    "# 1. A(BC) -> 연산 횟수 : 4500번\n",
    "# 2. (AB)C -> 연산 횟수 : 27000번\n",
    "\n",
    "print(MinChainMulti([10, 30, 5, 60])) "
   ]
  }
 ],
 "metadata": {
  "kernelspec": {
   "display_name": "Python 3 (ipykernel)",
   "language": "python",
   "name": "python3"
  },
  "language_info": {
   "codemirror_mode": {
    "name": "ipython",
    "version": 3
   },
   "file_extension": ".py",
   "mimetype": "text/x-python",
   "name": "python",
   "nbconvert_exporter": "python",
   "pygments_lexer": "ipython3",
   "version": "3.9.12"
  }
 },
 "nbformat": 4,
 "nbformat_minor": 5
}
